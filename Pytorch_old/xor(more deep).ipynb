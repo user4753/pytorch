{
 "cells": [
  {
   "cell_type": "markdown",
   "metadata": {},
   "source": [
    "Mutilayer Perceptron"
   ]
  },
  {
   "cell_type": "code",
   "execution_count": 1,
   "metadata": {},
   "outputs": [],
   "source": [
    "# Lab 9 XOR\n",
    "import torch"
   ]
  },
  {
   "cell_type": "code",
   "execution_count": 2,
   "metadata": {},
   "outputs": [],
   "source": [
    "device = 'cuda' if torch.cuda.is_available() else 'cpu'\n",
    "\n",
    "# for reproducibility\n",
    "torch.manual_seed(777)\n",
    "if device == 'cuda':\n",
    "    torch.cuda.manual_seed_all(777)"
   ]
  },
  {
   "cell_type": "code",
   "execution_count": 3,
   "metadata": {},
   "outputs": [],
   "source": [
    "X = torch.FloatTensor([[0, 0], [0, 1], [1, 0], [1, 1]]).to(device)\n",
    "Y = torch.FloatTensor([[0], [1], [1], [0]]).to(device)"
   ]
  },
  {
   "cell_type": "code",
   "execution_count": 4,
   "metadata": {},
   "outputs": [],
   "source": [
    "# nn layers\n",
    "linear1 = torch.nn.Linear(2, 10, bias=True)\n",
    "linear2 = torch.nn.Linear(10, 10, bias=True)\n",
    "linear3 = torch.nn.Linear(10, 10, bias=True)\n",
    "linear4 = torch.nn.Linear(10, 1, bias=True)\n",
    "sigmoid = torch.nn.Sigmoid()"
   ]
  },
  {
   "cell_type": "code",
   "execution_count": 5,
   "metadata": {},
   "outputs": [],
   "source": [
    "# model\n",
    "model = torch.nn.Sequential(linear1, sigmoid, linear2, sigmoid, linear3, sigmoid, linear4, sigmoid).to(device)"
   ]
  },
  {
   "cell_type": "code",
   "execution_count": 6,
   "metadata": {},
   "outputs": [],
   "source": [
    "# define cost/loss & optimizer\n",
    "criterion = torch.nn.BCELoss().to(device)\n",
    "optimizer = torch.optim.SGD(model.parameters(), lr=1)  # modified learning rate from 0.1 to 1"
   ]
  },
  {
   "cell_type": "code",
   "execution_count": 7,
   "metadata": {},
   "outputs": [
    {
     "name": "stdout",
     "output_type": "stream",
     "text": [
      "0 0.6948983669281006\n",
      "100 0.6931558847427368\n",
      "200 0.6931535005569458\n",
      "300 0.6931514143943787\n",
      "400 0.6931492686271667\n",
      "500 0.6931473016738892\n",
      "600 0.6931453943252563\n",
      "700 0.6931434869766235\n",
      "800 0.6931415796279907\n",
      "900 0.6931397914886475\n",
      "1000 0.6931380033493042\n",
      "1100 0.6931361556053162\n",
      "1200 0.6931343078613281\n",
      "1300 0.6931324005126953\n",
      "1400 0.6931304931640625\n",
      "1500 0.6931284666061401\n",
      "1600 0.6931264400482178\n",
      "1700 0.6931242942810059\n",
      "1800 0.6931220293045044\n",
      "1900 0.6931196451187134\n",
      "2000 0.6931171417236328\n",
      "2100 0.6931145191192627\n",
      "2200 0.6931116580963135\n",
      "2300 0.6931085586547852\n",
      "2400 0.693105161190033\n",
      "2500 0.6931014657020569\n",
      "2600 0.6930974721908569\n",
      "2700 0.6930930614471436\n",
      "2800 0.6930880546569824\n",
      "2900 0.6930825710296631\n",
      "3000 0.6930763721466064\n",
      "3100 0.6930692791938782\n",
      "3200 0.6930611729621887\n",
      "3300 0.6930519342422485\n",
      "3400 0.6930411458015442\n",
      "3500 0.693028450012207\n",
      "3600 0.6930133104324341\n",
      "3700 0.6929951906204224\n",
      "3800 0.6929729580879211\n",
      "3900 0.6929453015327454\n",
      "4000 0.6929103136062622\n",
      "4100 0.6928649544715881\n",
      "4200 0.6928046941757202\n",
      "4300 0.6927220225334167\n",
      "4400 0.6926040649414062\n",
      "4500 0.6924278736114502\n",
      "4600 0.692147970199585\n",
      "4700 0.6916664838790894\n",
      "4800 0.6907395124435425\n",
      "4900 0.6886203289031982\n",
      "5000 0.682081937789917\n",
      "5100 0.6472536325454712\n",
      "5200 0.45144587755203247\n",
      "5300 0.04179128259420395\n",
      "5400 0.009765855967998505\n",
      "5500 0.005043068900704384\n",
      "5600 0.0032999543473124504\n",
      "5700 0.0024181006010621786\n",
      "5800 0.001892839907668531\n",
      "5900 0.0015470688231289387\n",
      "6000 0.001303418423049152\n",
      "6100 0.0011231712996959686\n",
      "6200 0.0009848271729424596\n",
      "6300 0.0008754219161346555\n",
      "6400 0.000786967109888792\n",
      "6500 0.0007140289526432753\n",
      "6600 0.0006529208039864898\n",
      "6700 0.0006010311772115529\n",
      "6800 0.0005564351449720562\n",
      "6900 0.0005177301936782897\n",
      "7000 0.0004838572349399328\n",
      "7100 0.0004539659421425313\n",
      "7200 0.0004273701924830675\n",
      "7300 0.00040363732841797173\n",
      "7400 0.00038227529148571193\n",
      "7500 0.0003629857674241066\n",
      "7600 0.0003454705001786351\n",
      "7700 0.0003294759662821889\n",
      "7800 0.0003148530959151685\n",
      "7900 0.00030145267373882234\n",
      "8000 0.0002890511241275817\n",
      "8100 0.00027761858655139804\n",
      "8200 0.0002670059911906719\n",
      "8300 0.0002571536460891366\n",
      "8400 0.0002480019466020167\n",
      "8500 0.00023940180835779756\n",
      "8600 0.00023138304823078215\n",
      "8700 0.00022385618649423122\n",
      "8800 0.00021679143537767231\n",
      "8900 0.00021012916113249958\n",
      "9000 0.00020385441894177347\n",
      "9100 0.0001979225198738277\n",
      "9200 0.00019231854821555316\n",
      "9300 0.0001870127161964774\n",
      "9400 0.00018196026212535799\n",
      "9500 0.00017720590403769165\n",
      "9600 0.00017266023496631533\n",
      "9700 0.0001683381269685924\n",
      "9800 0.00016420980682596564\n",
      "9900 0.00016027523088268936\n",
      "10000 0.0001565642305649817\n"
     ]
    }
   ],
   "source": [
    "for step in range(10001):\n",
    "    optimizer.zero_grad()\n",
    "    hypothesis = model(X)\n",
    "\n",
    "    # cost/loss function\n",
    "    cost = criterion(hypothesis, Y)\n",
    "    cost.backward()\n",
    "    optimizer.step()\n",
    "\n",
    "    if step % 100 == 0:\n",
    "        print(step, cost.item())"
   ]
  },
  {
   "cell_type": "code",
   "execution_count": 8,
   "metadata": {},
   "outputs": [
    {
     "name": "stdout",
     "output_type": "stream",
     "text": [
      "\n",
      "Hypothesis:  [[1.1169876e-04]\n",
      " [9.9982882e-01]\n",
      " [9.9984229e-01]\n",
      " [1.8530559e-04]] \n",
      "Correct:  [[0.]\n",
      " [1.]\n",
      " [1.]\n",
      " [0.]] \n",
      "Accuracy:  1.0\n"
     ]
    }
   ],
   "source": [
    "# Accuracy computation\n",
    "# True if hypothesis>0.5 else False\n",
    "with torch.no_grad():\n",
    "    hypothesis = model(X)\n",
    "    predicted = (hypothesis > 0.5).float()\n",
    "    accuracy = (predicted == Y).float().mean()\n",
    "    print('\\nHypothesis: ', hypothesis.detach().cpu().numpy(), '\\nCorrect: ', predicted.detach().cpu().numpy(), '\\nAccuracy: ', accuracy.item())"
   ]
  },
  {
   "cell_type": "code",
   "execution_count": null,
   "metadata": {},
   "outputs": [],
   "source": []
  }
 ],
 "metadata": {
  "kernelspec": {
   "display_name": "Python 3.9.13 ('main')",
   "language": "python",
   "name": "python3"
  },
  "language_info": {
   "codemirror_mode": {
    "name": "ipython",
    "version": 3
   },
   "file_extension": ".py",
   "mimetype": "text/x-python",
   "name": "python",
   "nbconvert_exporter": "python",
   "pygments_lexer": "ipython3",
   "version": "3.9.13"
  },
  "orig_nbformat": 4,
  "vscode": {
   "interpreter": {
    "hash": "01a73c9cb07c02c1ae130d71f2187e0a75ab171bdbb1b38aaaea2af12b2488bf"
   }
  }
 },
 "nbformat": 4,
 "nbformat_minor": 2
}
